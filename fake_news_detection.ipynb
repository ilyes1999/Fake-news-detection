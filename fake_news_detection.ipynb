{
  "nbformat": 4,
  "nbformat_minor": 0,
  "metadata": {
    "colab": {
      "provenance": []
    },
    "kernelspec": {
      "name": "python3",
      "display_name": "Python 3"
    },
    "language_info": {
      "name": "python"
    }
  },
  "cells": [
    {
      "cell_type": "code",
      "execution_count": 1,
      "metadata": {
        "id": "WDxQUzel6frX"
      },
      "outputs": [],
      "source": [
        "import numpy as np\n",
        "import pandas as pd\n",
        "import re\n",
        "from nltk.corpus import stopwords\n",
        "from nltk.stem.porter import PorterStemmer\n",
        "from sklearn.feature_extraction.text import TfidfVectorizer\n",
        "from sklearn.neighbors import KNeighborsClassifier\n",
        "from sklearn.model_selection import train_test_split, GridSearchCV\n",
        "from sklearn.metrics import accuracy_score, recall_score, f1_score, precision_score\n",
        "import nltk\n",
        "from sklearn.linear_model import LogisticRegression"
      ]
    },
    {
      "cell_type": "code",
      "source": [
        "nltk.download('stopwords')"
      ],
      "metadata": {
        "colab": {
          "base_uri": "https://localhost:8080/"
        },
        "id": "esDgJx_EFowj",
        "outputId": "156f3749-717e-4591-ba0a-0bcf167e83b3"
      },
      "execution_count": 2,
      "outputs": [
        {
          "output_type": "stream",
          "name": "stderr",
          "text": [
            "[nltk_data] Downloading package stopwords to /root/nltk_data...\n",
            "[nltk_data]   Unzipping corpora/stopwords.zip.\n"
          ]
        },
        {
          "output_type": "execute_result",
          "data": {
            "text/plain": [
              "True"
            ]
          },
          "metadata": {},
          "execution_count": 2
        }
      ]
    },
    {
      "cell_type": "code",
      "source": [
        "data = pd.read_csv('/content/train.csv')"
      ],
      "metadata": {
        "id": "E2olvxZYGi16"
      },
      "execution_count": 3,
      "outputs": []
    },
    {
      "cell_type": "code",
      "source": [
        "data.isnull().sum()"
      ],
      "metadata": {
        "colab": {
          "base_uri": "https://localhost:8080/"
        },
        "id": "0_4l1dN2GwI6",
        "outputId": "77fdb558-801e-4e1d-f187-8fe07891288c"
      },
      "execution_count": 4,
      "outputs": [
        {
          "output_type": "execute_result",
          "data": {
            "text/plain": [
              "id           0\n",
              "title      558\n",
              "author    1957\n",
              "text        39\n",
              "label        0\n",
              "dtype: int64"
            ]
          },
          "metadata": {},
          "execution_count": 4
        }
      ]
    },
    {
      "cell_type": "code",
      "source": [
        "data = data.fillna('')"
      ],
      "metadata": {
        "id": "kbsoP0mvG2hN"
      },
      "execution_count": 5,
      "outputs": []
    },
    {
      "cell_type": "code",
      "source": [
        "data['content'] = data['author'] + ' ' + data['title']"
      ],
      "metadata": {
        "id": "S_dXTFWvH24M"
      },
      "execution_count": 15,
      "outputs": []
    },
    {
      "cell_type": "code",
      "source": [
        "port_stem = PorterStemmer()"
      ],
      "metadata": {
        "id": "keFBOCd3Ihwd"
      },
      "execution_count": 16,
      "outputs": []
    },
    {
      "cell_type": "code",
      "source": [
        "def stemming(content):\n",
        "  stemmed = re.sub('[^a-zA-Z]', ' ', content)\n",
        "  stemmed = stemmed.lower()\n",
        "  stemmed = stemmed.split()\n",
        "  stemmed = [port_stem.stem(word) for word in stemmed if not word in stopwords.words('english')]\n",
        "  stemmed = ' '.join(stemmed)\n",
        "  return stemmed"
      ],
      "metadata": {
        "id": "3_ZojcoAI4Xk"
      },
      "execution_count": 17,
      "outputs": []
    },
    {
      "cell_type": "code",
      "source": [
        "data['content'] = data['content'].apply(stemming)"
      ],
      "metadata": {
        "id": "t0qURQlhKxZv"
      },
      "execution_count": 18,
      "outputs": []
    },
    {
      "cell_type": "code",
      "source": [
        "x = data['content'].values\n",
        "y = data['label'].values"
      ],
      "metadata": {
        "id": "S38_IytYbDEo"
      },
      "execution_count": 26,
      "outputs": []
    },
    {
      "cell_type": "code",
      "source": [
        "vectorizer = TfidfVectorizer()\n",
        "vectorizer.fit(x)\n",
        "x = vectorizer.transform(x)"
      ],
      "metadata": {
        "id": "9dahqytBMo_p"
      },
      "execution_count": 28,
      "outputs": []
    },
    {
      "cell_type": "code",
      "source": [
        "x_train, x_test, y_train, y_test = train_test_split(x,y ,test_size = 0.2, random_state = 2, stratify = y)"
      ],
      "metadata": {
        "id": "MQYFbcSWM9sY"
      },
      "execution_count": 31,
      "outputs": []
    },
    {
      "cell_type": "code",
      "source": [
        "model = LogisticRegression()"
      ],
      "metadata": {
        "id": "Km-Zl3VnNSLV"
      },
      "execution_count": 32,
      "outputs": []
    },
    {
      "cell_type": "code",
      "source": [
        "model.fit(x_train, y_train)"
      ],
      "metadata": {
        "colab": {
          "base_uri": "https://localhost:8080/"
        },
        "id": "HvYOvEetN4w4",
        "outputId": "50655a2f-743c-4e7f-a87a-c8a2b0f90262"
      },
      "execution_count": 33,
      "outputs": [
        {
          "output_type": "execute_result",
          "data": {
            "text/plain": [
              "LogisticRegression()"
            ]
          },
          "metadata": {},
          "execution_count": 33
        }
      ]
    },
    {
      "cell_type": "code",
      "source": [
        "x_pred = model.predict(x_test)"
      ],
      "metadata": {
        "id": "fqkHlTnTN8NJ"
      },
      "execution_count": 34,
      "outputs": []
    },
    {
      "cell_type": "code",
      "source": [
        "print(accuracy_score(x_pred, y_test))\n",
        "print(precision_score(x_pred, y_test))\n",
        "print(recall_score(x_pred, y_test))\n",
        "print(f1_score(x_pred, y_test))"
      ],
      "metadata": {
        "colab": {
          "base_uri": "https://localhost:8080/"
        },
        "id": "-ClIfk-WOFSw",
        "outputId": "25e40063-dd41-4d4e-e808-8e2428d70a03"
      },
      "execution_count": 35,
      "outputs": [
        {
          "output_type": "stream",
          "name": "stdout",
          "text": [
            "0.9790865384615385\n",
            "0.9932789246279404\n",
            "0.9659197012138189\n",
            "0.9794082840236686\n"
          ]
        }
      ]
    },
    {
      "cell_type": "code",
      "source": [
        "param_grid = {\n",
        "    'n_neighbors' : np.arange(1,20),\n",
        "    'metric': ['euclidian', 'manhattan','minkowski']\n",
        "}\n",
        "grid = GridSearchCV(KNeighborsClassifier(), param_grid, cv= 5)\n",
        "grid.fit(x_train, y_train)\n",
        "print('best score = ', grid.best_score_)\n",
        "print('best params = ', grid.best_params_)\n",
        "model = grid.best_estimator_"
      ],
      "metadata": {
        "colab": {
          "base_uri": "https://localhost:8080/"
        },
        "id": "pTf3oTJnPr3Z",
        "outputId": "643d93db-6899-41c5-9256-cf38f614631c"
      },
      "execution_count": 37,
      "outputs": [
        {
          "output_type": "stream",
          "name": "stdout",
          "text": [
            "best score =  0.5810096153846154\n",
            "best params =  {'metric': 'manhattan', 'n_neighbors': 2}\n"
          ]
        },
        {
          "output_type": "stream",
          "name": "stderr",
          "text": [
            "/usr/local/lib/python3.8/dist-packages/sklearn/model_selection/_validation.py:372: FitFailedWarning: \n",
            "95 fits failed out of a total of 285.\n",
            "The score on these train-test partitions for these parameters will be set to nan.\n",
            "If these failures are not expected, you can try to debug them by setting error_score='raise'.\n",
            "\n",
            "Below are more details about the failures:\n",
            "--------------------------------------------------------------------------------\n",
            "95 fits failed with the following error:\n",
            "Traceback (most recent call last):\n",
            "  File \"/usr/local/lib/python3.8/dist-packages/sklearn/model_selection/_validation.py\", line 680, in _fit_and_score\n",
            "    estimator.fit(X_train, y_train, **fit_params)\n",
            "  File \"/usr/local/lib/python3.8/dist-packages/sklearn/neighbors/_classification.py\", line 198, in fit\n",
            "    return self._fit(X, y)\n",
            "  File \"/usr/local/lib/python3.8/dist-packages/sklearn/neighbors/_base.py\", line 437, in _fit\n",
            "    self._check_algorithm_metric()\n",
            "  File \"/usr/local/lib/python3.8/dist-packages/sklearn/neighbors/_base.py\", line 374, in _check_algorithm_metric\n",
            "    raise ValueError(\n",
            "ValueError: Metric 'euclidian' not valid. Use sorted(sklearn.neighbors.VALID_METRICS['brute']) to get valid options. Metric can also be a callable function.\n",
            "\n",
            "  warnings.warn(some_fits_failed_message, FitFailedWarning)\n",
            "/usr/local/lib/python3.8/dist-packages/sklearn/model_selection/_search.py:969: UserWarning: One or more of the test scores are non-finite: [       nan        nan        nan        nan        nan        nan\n",
            "        nan        nan        nan        nan        nan        nan\n",
            "        nan        nan        nan        nan        nan        nan\n",
            "        nan 0.58094952 0.58100962 0.53257212 0.53251202 0.52115385\n",
            " 0.52115385 0.51580529 0.51580529 0.51394231 0.51394231 0.51268029\n",
            " 0.51268029 0.51189904 0.51189904 0.51105769 0.51105769 0.51081731\n",
            " 0.51081731 0.51075721 0.57566106 0.57542067 0.5297476  0.5297476\n",
            " 0.52019231 0.52019231 0.51496394 0.51496394 0.5125     0.5125\n",
            " 0.51177885 0.51177885 0.51051683 0.51051683 0.50973558 0.50973558\n",
            " 0.5094351  0.5094351  0.50919471]\n",
            "  warnings.warn(\n"
          ]
        }
      ]
    },
    {
      "cell_type": "code",
      "source": [
        "x_pred = model.predict(x_test)\n",
        "print(accuracy_score(x_pred, y_test))\n",
        "print(precision_score(x_pred, y_test))\n",
        "print(recall_score(x_pred, y_test))\n",
        "print(f1_score(x_pred, y_test))"
      ],
      "metadata": {
        "colab": {
          "base_uri": "https://localhost:8080/"
        },
        "id": "r-nvZMBZR78t",
        "outputId": "45a05925-998f-4dfd-82f9-3e0c40840176"
      },
      "execution_count": 38,
      "outputs": [
        {
          "output_type": "stream",
          "name": "stdout",
          "text": [
            "0.5923076923076923\n",
            "1.0\n",
            "0.5512040222281027\n",
            "0.7106789491641079\n"
          ]
        }
      ]
    },
    {
      "cell_type": "code",
      "source": [],
      "metadata": {
        "id": "-uZgrfytbDrh"
      },
      "execution_count": null,
      "outputs": []
    }
  ]
}